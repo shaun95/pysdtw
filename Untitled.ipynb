{
 "cells": [
  {
   "cell_type": "markdown",
   "id": "02830f6e-11b6-4c38-9c7b-8ec4afe74737",
   "metadata": {},
   "source": [
    "# numba"
   ]
  },
  {
   "cell_type": "code",
   "execution_count": 1,
   "id": "34ecd376-105a-4b11-8a99-bf69a787f471",
   "metadata": {},
   "outputs": [],
   "source": [
    "from numba import cuda"
   ]
  },
  {
   "cell_type": "code",
   "execution_count": 2,
   "id": "53b5f75e-d8ff-460d-8ffb-b92adb45e7b7",
   "metadata": {},
   "outputs": [
    {
     "data": {
      "text/plain": [
       "[<numba.cuda.cudadrv.devices._DeviceContextManager at 0x7f0b5bea84c0>]"
      ]
     },
     "execution_count": 2,
     "metadata": {},
     "output_type": "execute_result"
    }
   ],
   "source": [
    "[i for i in cuda.devices.gpus]"
   ]
  },
  {
   "cell_type": "code",
   "execution_count": 3,
   "id": "3a395da9-f339-4840-8aa6-e4bf2cec85e7",
   "metadata": {},
   "outputs": [],
   "source": [
    "import numba"
   ]
  },
  {
   "cell_type": "code",
   "execution_count": 4,
   "id": "66a1366d-1d80-4306-b72b-f972b4c0e1d3",
   "metadata": {},
   "outputs": [
    {
     "name": "stdout",
     "output_type": "stream",
     "text": [
      "Found 1 CUDA devices\n",
      "id 0    b'NVIDIA GeForce RTX 2060 SUPER'                              [SUPPORTED]\n",
      "                      Compute Capability: 7.5\n",
      "                           PCI Device ID: 0\n",
      "                              PCI Bus ID: 38\n",
      "                                    UUID: GPU-f5dcddd0-bc57-5ebb-7578-229367d62be8\n",
      "                                Watchdog: Enabled\n",
      "             FP32/FP64 Performance Ratio: 32\n",
      "Summary:\n",
      "\t1/1 devices are supported\n"
     ]
    },
    {
     "data": {
      "text/plain": [
       "True"
      ]
     },
     "execution_count": 4,
     "metadata": {},
     "output_type": "execute_result"
    }
   ],
   "source": [
    "numba.cuda.detect()"
   ]
  },
  {
   "cell_type": "code",
   "execution_count": 5,
   "id": "84d5ce5b-cc99-46af-a3ed-dda9f2f5d30b",
   "metadata": {},
   "outputs": [],
   "source": [
    "device = cuda.get_current_device()"
   ]
  },
  {
   "cell_type": "code",
   "execution_count": 6,
   "id": "ad68be7c-50c1-4884-aaf8-f32765cb0b50",
   "metadata": {},
   "outputs": [],
   "source": [
    "cd = device.get_primary_context()"
   ]
  },
  {
   "cell_type": "code",
   "execution_count": 7,
   "id": "3c99977d-abf0-4e48-b8d9-e1d4930af1fa",
   "metadata": {},
   "outputs": [
    {
     "data": {
      "text/plain": [
       "\u001b[0;31mSignature:\u001b[0m\n",
       "\u001b[0mcd\u001b[0m\u001b[0;34m.\u001b[0m\u001b[0mget_max_potential_block_size\u001b[0m\u001b[0;34m(\u001b[0m\u001b[0;34m\u001b[0m\n",
       "\u001b[0;34m\u001b[0m    \u001b[0mfunc\u001b[0m\u001b[0;34m,\u001b[0m\u001b[0;34m\u001b[0m\n",
       "\u001b[0;34m\u001b[0m    \u001b[0mb2d_func\u001b[0m\u001b[0;34m,\u001b[0m\u001b[0;34m\u001b[0m\n",
       "\u001b[0;34m\u001b[0m    \u001b[0mmemsize\u001b[0m\u001b[0;34m,\u001b[0m\u001b[0;34m\u001b[0m\n",
       "\u001b[0;34m\u001b[0m    \u001b[0mblocksizelimit\u001b[0m\u001b[0;34m,\u001b[0m\u001b[0;34m\u001b[0m\n",
       "\u001b[0;34m\u001b[0m    \u001b[0mflags\u001b[0m\u001b[0;34m=\u001b[0m\u001b[0;32mNone\u001b[0m\u001b[0;34m,\u001b[0m\u001b[0;34m\u001b[0m\n",
       "\u001b[0;34m\u001b[0m\u001b[0;34m)\u001b[0m\u001b[0;34m\u001b[0m\u001b[0;34m\u001b[0m\u001b[0m\n",
       "\u001b[0;31mDocstring:\u001b[0m\n",
       "Suggest a launch configuration with reasonable occupancy.\n",
       ":param func: kernel for which occupancy is calculated\n",
       ":param b2d_func: function that calculates how much per-block dynamic\n",
       "                 shared memory 'func' uses based on the block size.\n",
       "                 Can also be the address of a C function.\n",
       "                 Use `0` to pass `NULL` to the underlying CUDA API.\n",
       ":param memsize: per-block dynamic shared memory usage intended, in bytes\n",
       ":param blocksizelimit: maximum block size the kernel is designed to\n",
       "                       handle\n",
       "\u001b[0;31mFile:\u001b[0m      ~/anaconda3/envs/pysdtw/lib/python3.9/site-packages/numba/cuda/cudadrv/driver.py\n",
       "\u001b[0;31mType:\u001b[0m      method\n"
      ]
     },
     "metadata": {},
     "output_type": "display_data"
    }
   ],
   "source": [
    "cd.get_max_potential_block_size?"
   ]
  },
  {
   "cell_type": "code",
   "execution_count": 8,
   "id": "c8e5e52d-f11a-49d8-9975-b5d172d1a4fd",
   "metadata": {},
   "outputs": [
    {
     "data": {
      "text/plain": [
       "MemoryInfo(free=7392985088, total=8346664960)"
      ]
     },
     "execution_count": 8,
     "metadata": {},
     "output_type": "execute_result"
    }
   ],
   "source": [
    "cd.get_memory_info()"
   ]
  },
  {
   "cell_type": "code",
   "execution_count": 9,
   "id": "6dd97ca6-6442-487d-8e19-3e0337bae498",
   "metadata": {},
   "outputs": [
    {
     "data": {
      "text/plain": [
       "<weakproxy at 0x7f0b5bea97c0 to Device at 0x7f0b9462ae50>"
      ]
     },
     "execution_count": 9,
     "metadata": {},
     "output_type": "execute_result"
    }
   ],
   "source": [
    "device"
   ]
  },
  {
   "cell_type": "markdown",
   "id": "da7069ea-b3b8-47c7-90f3-014911f56cb6",
   "metadata": {},
   "source": [
    "# gradient"
   ]
  },
  {
   "cell_type": "code",
   "execution_count": 10,
   "id": "cc77951a-274e-4c91-a31a-460eb777dec5",
   "metadata": {},
   "outputs": [],
   "source": [
    "import torch"
   ]
  },
  {
   "cell_type": "code",
   "execution_count": 11,
   "id": "e09738a1-0079-41cf-8741-039fce8390b7",
   "metadata": {},
   "outputs": [],
   "source": [
    "from pysdtw import SoftDTW"
   ]
  },
  {
   "cell_type": "code",
   "execution_count": 12,
   "id": "fe7edefc-510b-49be-af9b-819e7fecaa96",
   "metadata": {},
   "outputs": [],
   "source": [
    "batch_size, seq_len_a, seq_len_b, dims = 10, 512, 1023, 15"
   ]
  },
  {
   "cell_type": "code",
   "execution_count": 13,
   "id": "35af4b8b-90ca-4998-a34e-accaec31ce97",
   "metadata": {},
   "outputs": [],
   "source": [
    "A = torch.rand((batch_size, seq_len_a, dims), requires_grad=True)\n",
    "B = torch.rand((batch_size, seq_len_b, dims))"
   ]
  },
  {
   "cell_type": "code",
   "execution_count": 14,
   "id": "3c11e0bf-929c-4cbc-8db9-97ce2caef809",
   "metadata": {},
   "outputs": [],
   "source": [
    "sdtw = SoftDTW()"
   ]
  },
  {
   "cell_type": "code",
   "execution_count": 15,
   "id": "44167eb6-0744-4fa5-988d-f68ec28557f3",
   "metadata": {},
   "outputs": [
    {
     "name": "stdout",
     "output_type": "stream",
     "text": [
      "128 5 1534\n"
     ]
    },
    {
     "name": "stderr",
     "output_type": "stream",
     "text": [
      "/home/antoine/anaconda3/envs/pysdtw/lib/python3.9/site-packages/numba/cuda/compiler.py:726: NumbaPerformanceWarning: Grid size (10) < 2 * SM count (68) will likely result in GPU under utilization due to low occupancy.\n",
      "  warn(NumbaPerformanceWarning(msg))\n"
     ]
    },
    {
     "name": "stdout",
     "output_type": "stream",
     "text": [
      "128 5 1534\n",
      "128 5 1534\n",
      "128 5 1534\n",
      "128 5 1534\n",
      "128 5 1534\n",
      "128 5 1534\n",
      "128 5 1534\n",
      "20 ms ± 2.71 ms per loop (mean ± std. dev. of 7 runs, 1 loop each)\n"
     ]
    },
    {
     "name": "stderr",
     "output_type": "stream",
     "text": [
      "/home/antoine/anaconda3/envs/pysdtw/lib/python3.9/site-packages/numba/cuda/compiler.py:726: NumbaPerformanceWarning: Grid size (10) < 2 * SM count (68) will likely result in GPU under utilization due to low occupancy.\n",
      "  warn(NumbaPerformanceWarning(msg))\n"
     ]
    }
   ],
   "source": [
    "%%timeit\n",
    "sdtw(A.cuda(), B.cuda())"
   ]
  },
  {
   "cell_type": "code",
   "execution_count": 16,
   "id": "e4862a9c-85e3-4aac-8c86-7276778c8e18",
   "metadata": {},
   "outputs": [],
   "source": [
    "sdtw_cpu = SoftDTW(use_cuda=False)"
   ]
  },
  {
   "cell_type": "code",
   "execution_count": 17,
   "id": "b3c33163-2f81-46a4-afc2-ae1bfee1d56a",
   "metadata": {},
   "outputs": [
    {
     "name": "stdout",
     "output_type": "stream",
     "text": [
      "346 ms ± 5.07 ms per loop (mean ± std. dev. of 7 runs, 1 loop each)\n"
     ]
    }
   ],
   "source": [
    "%%timeit\n",
    "sdtw_cpu(A, B)"
   ]
  },
  {
   "cell_type": "code",
   "execution_count": 18,
   "id": "4b5cac83-18f2-421b-8507-dbaad7a74012",
   "metadata": {},
   "outputs": [
    {
     "name": "stdout",
     "output_type": "stream",
     "text": [
      "128 5 1534\n"
     ]
    },
    {
     "name": "stderr",
     "output_type": "stream",
     "text": [
      "/home/antoine/anaconda3/envs/pysdtw/lib/python3.9/site-packages/numba/cuda/compiler.py:726: NumbaPerformanceWarning: Grid size (10) < 2 * SM count (68) will likely result in GPU under utilization due to low occupancy.\n",
      "  warn(NumbaPerformanceWarning(msg))\n"
     ]
    }
   ],
   "source": [
    "res = sdtw(A.cuda(), B.cuda())"
   ]
  },
  {
   "cell_type": "code",
   "execution_count": 19,
   "id": "e9f9350f-fb68-4c3b-8f1a-600e724677a1",
   "metadata": {},
   "outputs": [],
   "source": [
    "loss = res.sum()"
   ]
  },
  {
   "cell_type": "code",
   "execution_count": 20,
   "id": "391fb24f-a012-4509-bba6-4fe74be50164",
   "metadata": {},
   "outputs": [],
   "source": [
    "loss.backward()"
   ]
  },
  {
   "cell_type": "code",
   "execution_count": 21,
   "id": "85f7a2e7-b770-47af-acf1-b311adc95764",
   "metadata": {
    "tags": []
   },
   "outputs": [
    {
     "data": {
      "text/plain": [
       "tensor([nan, nan, nan, nan, nan, nan, nan, nan, nan, nan, nan, nan, nan, nan, nan])"
      ]
     },
     "execution_count": 21,
     "metadata": {},
     "output_type": "execute_result"
    }
   ],
   "source": [
    "A.grad[0,0]"
   ]
  },
  {
   "cell_type": "code",
   "execution_count": 23,
   "id": "c0013df3-3ba2-4fff-b741-39fdbe4af60a",
   "metadata": {},
   "outputs": [],
   "source": [
    "Ac = A.detach().clone().requires_grad_(True)"
   ]
  },
  {
   "cell_type": "code",
   "execution_count": 24,
   "id": "671d9e2e-b82b-434b-8692-22d0b75b53b5",
   "metadata": {},
   "outputs": [],
   "source": [
    "res_leg = sdtw_cpu(Ac, B)"
   ]
  },
  {
   "cell_type": "code",
   "execution_count": 25,
   "id": "68ba6d84-ae50-4c6a-bc50-731128b413cb",
   "metadata": {},
   "outputs": [],
   "source": [
    "loss_leg = res_leg.sum()"
   ]
  },
  {
   "cell_type": "code",
   "execution_count": 26,
   "id": "e5ae1bfe-d50a-4850-b9c8-e770b7e93175",
   "metadata": {},
   "outputs": [],
   "source": [
    "loss_leg.backward()"
   ]
  },
  {
   "cell_type": "code",
   "execution_count": 27,
   "id": "820a9715-de73-4bfd-97b7-dd443a17c7d8",
   "metadata": {},
   "outputs": [
    {
     "data": {
      "text/plain": [
       "tensor([-0.9011, -1.5398,  1.4161,  1.2702, -0.8651,  1.8042, -0.5897,  1.2158,\n",
       "         1.2448, -0.4859, -0.1417, -0.3461, -0.5727, -1.5326, -0.7352])"
      ]
     },
     "execution_count": 27,
     "metadata": {},
     "output_type": "execute_result"
    }
   ],
   "source": [
    "Ac.grad[0,0]"
   ]
  },
  {
   "cell_type": "code",
   "execution_count": null,
   "id": "dfe8c49e-f078-46d5-bb99-df16b9c17ada",
   "metadata": {},
   "outputs": [],
   "source": []
  },
  {
   "cell_type": "markdown",
   "id": "c2f6c88e-48bf-4087-83a2-b9b29a2cdd8f",
   "metadata": {},
   "source": [
    "# gradient loop"
   ]
  },
  {
   "cell_type": "code",
   "execution_count": 29,
   "id": "0bb971a7-88dd-461c-9b57-cfe79361435d",
   "metadata": {},
   "outputs": [],
   "source": [
    "MAX_THREADS_PER_BLOCK = 128\n",
    "M = 12\n",
    "N = 21"
   ]
  },
  {
   "cell_type": "code",
   "execution_count": 30,
   "id": "f5a1aef3-4675-4de6-867d-b4df5c6568ac",
   "metadata": {},
   "outputs": [],
   "source": [
    "max_i = N\n",
    "max_j = M"
   ]
  },
  {
   "cell_type": "code",
   "execution_count": 31,
   "id": "f2939ab3-f3c1-4926-8588-fcc3516a202a",
   "metadata": {},
   "outputs": [],
   "source": [
    "threads_per_block = max(N, M)\n",
    "n_passes = N + M - 1"
   ]
  },
  {
   "cell_type": "code",
   "execution_count": 32,
   "id": "a487fab9-3c9c-4ec6-9cfe-c109bf24bdc6",
   "metadata": {},
   "outputs": [
    {
     "name": "stdout",
     "output_type": "stream",
     "text": [
      "[(1, 1)]\n",
      "[(1, 2), (2, 1)]\n",
      "[(1, 3), (2, 2), (3, 1)]\n",
      "[(1, 4), (2, 3), (3, 2), (4, 1)]\n",
      "[(1, 5), (2, 4), (3, 3), (4, 2), (5, 1)]\n",
      "[(1, 6), (2, 5), (3, 4), (4, 3), (5, 2), (6, 1)]\n",
      "[(1, 7), (2, 6), (3, 5), (4, 4), (5, 3), (6, 2), (7, 1)]\n",
      "[(1, 8), (2, 7), (3, 6), (4, 5), (5, 4), (6, 3), (7, 2), (8, 1)]\n",
      "[(1, 9), (2, 8), (3, 7), (4, 6), (5, 5), (6, 4), (7, 3), (8, 2), (9, 1)]\n",
      "[(1, 10), (2, 9), (3, 8), (4, 7), (5, 6), (6, 5), (7, 4), (8, 3), (9, 2), (10, 1)]\n",
      "[(1, 11), (2, 10), (3, 9), (4, 8), (5, 7), (6, 6), (7, 5), (8, 4), (9, 3), (10, 2), (11, 1)]\n",
      "[(1, 12), (2, 11), (3, 10), (4, 9), (5, 8), (6, 7), (7, 6), (8, 5), (9, 4), (10, 3), (11, 2), (12, 1)]\n",
      "[(2, 12), (3, 11), (4, 10), (5, 9), (6, 8), (7, 7), (8, 6), (9, 5), (10, 4), (11, 3), (12, 2), (13, 1)]\n",
      "[(3, 12), (4, 11), (5, 10), (6, 9), (7, 8), (8, 7), (9, 6), (10, 5), (11, 4), (12, 3), (13, 2), (14, 1)]\n",
      "[(4, 12), (5, 11), (6, 10), (7, 9), (8, 8), (9, 7), (10, 6), (11, 5), (12, 4), (13, 3), (14, 2), (15, 1)]\n",
      "[(5, 12), (6, 11), (7, 10), (8, 9), (9, 8), (10, 7), (11, 6), (12, 5), (13, 4), (14, 3), (15, 2), (16, 1)]\n",
      "[(6, 12), (7, 11), (8, 10), (9, 9), (10, 8), (11, 7), (12, 6), (13, 5), (14, 4), (15, 3), (16, 2), (17, 1)]\n",
      "[(7, 12), (8, 11), (9, 10), (10, 9), (11, 8), (12, 7), (13, 6), (14, 5), (15, 4), (16, 3), (17, 2), (18, 1)]\n",
      "[(8, 12), (9, 11), (10, 10), (11, 9), (12, 8), (13, 7), (14, 6), (15, 5), (16, 4), (17, 3), (18, 2), (19, 1)]\n",
      "[(9, 12), (10, 11), (11, 10), (12, 9), (13, 8), (14, 7), (15, 6), (16, 5), (17, 4), (18, 3), (19, 2), (20, 1)]\n",
      "[(10, 12), (11, 11), (12, 10), (13, 9), (14, 8), (15, 7), (16, 6), (17, 5), (18, 4), (19, 3), (20, 2), (21, 1)]\n",
      "[(11, 12), (12, 11), (13, 10), (14, 9), (15, 8), (16, 7), (17, 6), (18, 5), (19, 4), (20, 3), (21, 2)]\n",
      "[(12, 12), (13, 11), (14, 10), (15, 9), (16, 8), (17, 7), (18, 6), (19, 5), (20, 4), (21, 3)]\n",
      "[(13, 12), (14, 11), (15, 10), (16, 9), (17, 8), (18, 7), (19, 6), (20, 5), (21, 4)]\n",
      "[(14, 12), (15, 11), (16, 10), (17, 9), (18, 8), (19, 7), (20, 6), (21, 5)]\n",
      "[(15, 12), (16, 11), (17, 10), (18, 9), (19, 8), (20, 7), (21, 6)]\n",
      "[(16, 12), (17, 11), (18, 10), (19, 9), (20, 8), (21, 7)]\n",
      "[(17, 12), (18, 11), (19, 10), (20, 9), (21, 8)]\n",
      "[(18, 12), (19, 11), (20, 10), (21, 9)]\n",
      "[(19, 12), (20, 11), (21, 10)]\n",
      "[(20, 12), (21, 11)]\n",
      "[(21, 12)]\n"
     ]
    }
   ],
   "source": [
    "antidiag = []\n",
    "for p in range(n_passes):\n",
    "    \n",
    "    antidiag_row = []\n",
    "    \n",
    "    for thread_id in range(threads_per_block):\n",
    "        I = thread_id\n",
    "        tid = thread_id\n",
    "\n",
    "        # The index is actually 'p - tid' but need to force it in-bounds\n",
    "        J = max(0, min(p - tid, max_j - 1))\n",
    "\n",
    "        # For simplicity, we define i, j which start from 1 (offset from I, J)\n",
    "        i = I + 1\n",
    "        j = J + 1\n",
    "\n",
    "        # Only compute if element[i, j] is on the current anti-diagonal, and also is within bounds\n",
    "        if I + J == p and (I < max_i and J < max_j):\n",
    "            antidiag_row.append((i, j))\n",
    "    \n",
    "    print(antidiag_row)\n",
    "    antidiag.append(antidiag_row)"
   ]
  },
  {
   "cell_type": "code",
   "execution_count": 33,
   "id": "07459e8f-4cca-4191-9c63-e323a4b8941f",
   "metadata": {},
   "outputs": [],
   "source": [
    "antidiag_leg = antidiag"
   ]
  },
  {
   "cell_type": "code",
   "execution_count": 34,
   "id": "2f8ac7b7-f8c7-4af3-8449-0b14a2115bde",
   "metadata": {},
   "outputs": [],
   "source": [
    "MAX_THREADS_PER_BLOCK = 5"
   ]
  },
  {
   "cell_type": "code",
   "execution_count": 35,
   "id": "63bb8893-095a-4792-ac8b-418911a647be",
   "metadata": {},
   "outputs": [],
   "source": [
    "T = min(min(N, M), MAX_THREADS_PER_BLOCK)\n",
    "n_passes = min(N, M) // MAX_THREADS_PER_BLOCK + 1\n",
    "n_antidiag = M + N - 1"
   ]
  },
  {
   "cell_type": "code",
   "execution_count": 36,
   "id": "86ddc623-b5f0-4d49-85f9-4144c7c1edf5",
   "metadata": {},
   "outputs": [
    {
     "data": {
      "text/plain": [
       "(3, 5)"
      ]
     },
     "execution_count": 36,
     "metadata": {},
     "output_type": "execute_result"
    }
   ],
   "source": [
    "n_passes, T"
   ]
  },
  {
   "cell_type": "code",
   "execution_count": 37,
   "id": "4f488c9e-71a9-4fb0-8c15-d5c745fcb4c8",
   "metadata": {},
   "outputs": [
    {
     "data": {
      "text/plain": [
       "(21, 12)"
      ]
     },
     "execution_count": 37,
     "metadata": {},
     "output_type": "execute_result"
    }
   ],
   "source": [
    "max_i, max_j"
   ]
  },
  {
   "cell_type": "code",
   "execution_count": 44,
   "id": "c4ff886d-8428-4f0b-9211-b774465a91a9",
   "metadata": {},
   "outputs": [
    {
     "name": "stdout",
     "output_type": "stream",
     "text": [
      "[(1, 1)]\n",
      "[(2, 1), (1, 2)]\n",
      "[(3, 1), (2, 2), (1, 3)]\n",
      "[(4, 1), (3, 2), (2, 3), (1, 4)]\n",
      "[(5, 1), (4, 2), (3, 3), (2, 4), (1, 5)]\n",
      "[(6, 1), (1, 6), (5, 2), (4, 3), (3, 4), (2, 5)]\n",
      "[(7, 1), (2, 6), (6, 2), (1, 7), (5, 3), (4, 4), (3, 5)]\n",
      "[(8, 1), (3, 6), (7, 2), (2, 7), (6, 3), (1, 8), (5, 4), (4, 5)]\n",
      "[(9, 1), (4, 6), (8, 2), (3, 7), (7, 3), (2, 8), (6, 4), (1, 9), (5, 5)]\n",
      "[(10, 1), (5, 6), (9, 2), (4, 7), (8, 3), (3, 8), (7, 4), (2, 9), (6, 5), (1, 10)]\n",
      "[(11, 1), (6, 6), (1, 11), (10, 2), (5, 7), (9, 3), (4, 8), (8, 4), (3, 9), (7, 5), (2, 10)]\n",
      "[(12, 1), (7, 6), (2, 11), (11, 2), (6, 7), (1, 12), (10, 3), (5, 8), (9, 4), (4, 9), (8, 5), (3, 10)]\n",
      "[(13, 1), (8, 6), (3, 11), (12, 2), (7, 7), (2, 12), (11, 3), (6, 8), (10, 4), (5, 9), (9, 5), (4, 10)]\n",
      "[(14, 1), (9, 6), (4, 11), (13, 2), (8, 7), (3, 12), (12, 3), (7, 8), (11, 4), (6, 9), (10, 5), (5, 10)]\n",
      "[(15, 1), (10, 6), (5, 11), (14, 2), (9, 7), (4, 12), (13, 3), (8, 8), (12, 4), (7, 9), (11, 5), (6, 10)]\n",
      "[(16, 1), (11, 6), (6, 11), (15, 2), (10, 7), (5, 12), (14, 3), (9, 8), (13, 4), (8, 9), (12, 5), (7, 10)]\n",
      "[(17, 1), (12, 6), (7, 11), (16, 2), (11, 7), (6, 12), (15, 3), (10, 8), (14, 4), (9, 9), (13, 5), (8, 10)]\n",
      "[(18, 1), (13, 6), (8, 11), (17, 2), (12, 7), (7, 12), (16, 3), (11, 8), (15, 4), (10, 9), (14, 5), (9, 10)]\n",
      "[(19, 1), (14, 6), (9, 11), (18, 2), (13, 7), (8, 12), (17, 3), (12, 8), (16, 4), (11, 9), (15, 5), (10, 10)]\n",
      "[(20, 1), (15, 6), (10, 11), (19, 2), (14, 7), (9, 12), (18, 3), (13, 8), (17, 4), (12, 9), (16, 5), (11, 10)]\n",
      "[(21, 1), (16, 6), (11, 11), (20, 2), (15, 7), (10, 12), (19, 3), (14, 8), (18, 4), (13, 9), (17, 5), (12, 10)]\n",
      "[(17, 6), (12, 11), (21, 2), (16, 7), (11, 12), (20, 3), (15, 8), (19, 4), (14, 9), (18, 5), (13, 10)]\n",
      "[(18, 6), (13, 11), (17, 7), (12, 12), (21, 3), (16, 8), (20, 4), (15, 9), (19, 5), (14, 10)]\n",
      "[(19, 6), (14, 11), (18, 7), (13, 12), (17, 8), (21, 4), (16, 9), (20, 5), (15, 10)]\n",
      "[(20, 6), (15, 11), (19, 7), (14, 12), (18, 8), (17, 9), (21, 5), (16, 10)]\n",
      "[(21, 6), (16, 11), (20, 7), (15, 12), (19, 8), (18, 9), (17, 10)]\n",
      "[(17, 11), (21, 7), (16, 12), (20, 8), (19, 9), (18, 10)]\n",
      "[(18, 11), (17, 12), (21, 8), (20, 9), (19, 10)]\n",
      "[(19, 11), (18, 12), (21, 9), (20, 10)]\n",
      "[(20, 11), (19, 12), (21, 10)]\n",
      "[(21, 11), (20, 12)]\n",
      "[(21, 12)]\n"
     ]
    }
   ],
   "source": [
    "antidiag = []\n",
    "for a in range(n_antidiag):\n",
    "    \n",
    "    antidiag_row = []\n",
    "    \n",
    "    for thread_id in range(T):\n",
    "        for p in range(n_passes):\n",
    "            J = thread_id + p*MAX_THREADS_PER_BLOCK\n",
    "            I = a - thread_id - p*MAX_THREADS_PER_BLOCK\n",
    "            \n",
    "            i = I + 1\n",
    "            j = J + 1\n",
    "\n",
    "            if I + J == a and (I < max_i and J < max_j) and (I > -1):\n",
    "                antidiag_row.append((i, j))\n",
    "    \n",
    "    print(antidiag_row)  \n",
    "    antidiag.append(antidiag_row)"
   ]
  },
  {
   "cell_type": "code",
   "execution_count": 45,
   "id": "39392e59-5ac5-48b7-b9ca-bd8255c566a0",
   "metadata": {},
   "outputs": [
    {
     "name": "stdout",
     "output_type": "stream",
     "text": [
      "True\n",
      "True\n",
      "True\n",
      "True\n",
      "True\n",
      "True\n",
      "True\n",
      "True\n",
      "True\n",
      "True\n",
      "True\n",
      "True\n",
      "True\n",
      "True\n",
      "True\n",
      "True\n",
      "True\n",
      "True\n",
      "True\n",
      "True\n",
      "True\n",
      "True\n",
      "True\n",
      "True\n",
      "True\n",
      "True\n",
      "True\n",
      "True\n",
      "True\n",
      "True\n",
      "True\n",
      "True\n"
     ]
    }
   ],
   "source": [
    "for i, j in zip(antidiag, antidiag_leg):\n",
    "    print(set(i)==set(j))"
   ]
  },
  {
   "cell_type": "code",
   "execution_count": 46,
   "id": "d6b57d4d-fa4f-420a-ac6e-45c4723f2d63",
   "metadata": {},
   "outputs": [],
   "source": [
    "batch_size, seq_len_a, seq_len_b, dims = 2, 10, 15, 3"
   ]
  },
  {
   "cell_type": "code",
   "execution_count": 47,
   "id": "a7032ecb-1777-43ca-bc64-f360783ffbd9",
   "metadata": {},
   "outputs": [],
   "source": [
    "A = torch.rand((batch_size, seq_len_a, dims))\n",
    "B = torch.rand((batch_size, seq_len_b, dims))"
   ]
  },
  {
   "cell_type": "code",
   "execution_count": 48,
   "id": "cff2a082-7d85-41ae-9eb7-f84750d162d3",
   "metadata": {},
   "outputs": [],
   "source": [
    "sdtw = SoftDTW()"
   ]
  },
  {
   "cell_type": "code",
   "execution_count": 49,
   "id": "b9628201-c4da-4cc6-a509-869f25f9cc2d",
   "metadata": {},
   "outputs": [
    {
     "name": "stdout",
     "output_type": "stream",
     "text": [
      "10 1 24\n"
     ]
    },
    {
     "name": "stderr",
     "output_type": "stream",
     "text": [
      "/home/antoine/anaconda3/envs/pysdtw/lib/python3.9/site-packages/numba/cuda/compiler.py:726: NumbaPerformanceWarning: Grid size (2) < 2 * SM count (68) will likely result in GPU under utilization due to low occupancy.\n",
      "  warn(NumbaPerformanceWarning(msg))\n"
     ]
    },
    {
     "data": {
      "text/plain": [
       "tensor([inf, inf], device='cuda:0')"
      ]
     },
     "execution_count": 49,
     "metadata": {},
     "output_type": "execute_result"
    }
   ],
   "source": [
    "sdtw(A.cuda(), B.cuda())"
   ]
  },
  {
   "cell_type": "markdown",
   "id": "2eb7431b-2b03-4213-8d6e-d869f6741105",
   "metadata": {},
   "source": [
    "# pairwise"
   ]
  },
  {
   "cell_type": "code",
   "execution_count": 30,
   "id": "1fad7e55-56db-4319-b1a3-4cce26da8367",
   "metadata": {},
   "outputs": [],
   "source": [
    "def _euclidean_dist_func(x, y):\n",
    "    \"\"\"\n",
    "    Calculates the Euclidean distance between each element in x and y per timestep\n",
    "    \"\"\"\n",
    "    n = x.size(1)\n",
    "    m = y.size(1)\n",
    "    d = x.size(2)\n",
    "    x = x.unsqueeze(2).expand(-1, n, m, d)\n",
    "    y = y.unsqueeze(1).expand(-1, n, m, d)\n",
    "    return torch.pow(x - y, 2).sum(3)"
   ]
  },
  {
   "cell_type": "code",
   "execution_count": 31,
   "id": "a1b7db84-9610-4b50-bdde-ea7abd010a25",
   "metadata": {},
   "outputs": [],
   "source": [
    "def pairwise_l2_squared_opt(x, y, theta):\n",
    "    '''\n",
    "    https://discuss.pytorch.org/t/efficient-distance-matrix-computation/9065/2\n",
    "\n",
    "    Input: x is an Nxd matrix\n",
    "           y is an Mxd matrix\n",
    "    Output: dist is a NxM matrix where dist[i,j] is the square norm between x[i,:] and y[j,:]\n",
    "            if y is not given then use 'y=x'.\n",
    "    i.e. dist[i,j] = ||x[i,:]-y[j,:]||^2\n",
    "    '''\n",
    "    x_norm = (theta * x**2).sum(1).view(-1, 1)\n",
    "    y_t = torch.transpose(y, 0, 1)\n",
    "    y_norm = (theta * y**2).sum(1).view(1, -1)\n",
    "    dist = x_norm + y_norm - 2.0 * torch.mm(theta*x, y_t)\n",
    "    # Ensure diagonal is zero if x=y\n",
    "    # if y is None:\n",
    "    #     dist = dist - torch.diag(dist.diag)\n",
    "    return torch.clamp(dist, 0.0, np.inf)\n",
    "\n",
    "import numpy as np\n",
    "\n",
    "def pairwise_l2_squared(x, y):\n",
    "    '''\n",
    "    https://discuss.pytorch.org/t/efficient-distance-matrix-computation/9065/2\n",
    "\n",
    "    Input: x is an Nxd matrix\n",
    "           y is an Mxd matrix\n",
    "    Output: dist is a NxM matrix where dist[i,j] is the square norm between x[i,:] and y[j,:]\n",
    "            if y is not given then use 'y=x'.\n",
    "    i.e. dist[i,j] = ||x[i,:]-y[j,:]||^2\n",
    "    '''\n",
    "    x_norm = (x**2).sum(-1).unsqueeze(-1)\n",
    "    y_norm = (y**2).sum(-1).unsqueeze(-2)\n",
    "    dist = x_norm + y_norm - 2.0 * torch.bmm(x, y.mT)\n",
    "    return torch.clamp(dist, 0.0, np.inf)"
   ]
  },
  {
   "cell_type": "code",
   "execution_count": 35,
   "id": "5bd2067a-5e29-4ed2-85d0-bcad32f33c9b",
   "metadata": {},
   "outputs": [],
   "source": [
    "# %%timeit\n",
    "res_a = _euclidean_dist_func(a_cpu, b_cpu)"
   ]
  },
  {
   "cell_type": "code",
   "execution_count": 36,
   "id": "b9dd90f2-379c-4a62-99a9-4f271c4c9c64",
   "metadata": {},
   "outputs": [],
   "source": [
    "# %%timeit\n",
    "res_b = pairwise_l2_squared(a_cpu, b_cpu)"
   ]
  },
  {
   "cell_type": "code",
   "execution_count": 37,
   "id": "567abb53-a04c-4699-b0dc-46d376402932",
   "metadata": {},
   "outputs": [
    {
     "data": {
      "text/plain": [
       "True"
      ]
     },
     "execution_count": 37,
     "metadata": {},
     "output_type": "execute_result"
    }
   ],
   "source": [
    "torch.allclose(res_a, res_b)"
   ]
  },
  {
   "cell_type": "code",
   "execution_count": 47,
   "id": "475409b4-1000-4788-9785-f5383f63d6f2",
   "metadata": {},
   "outputs": [],
   "source": [
    "theta = torch.ones(dims)"
   ]
  },
  {
   "cell_type": "code",
   "execution_count": 50,
   "id": "7a0fa13c-69ad-42ac-9ce7-efccc1414402",
   "metadata": {},
   "outputs": [],
   "source": [
    "# pairwise_l2_squared(a_cpu, b_cpu, torch.ones(dims)).shape"
   ]
  },
  {
   "cell_type": "code",
   "execution_count": 64,
   "id": "bd18b27f-2913-484f-90d4-735cb78a7a1a",
   "metadata": {},
   "outputs": [],
   "source": [
    "batch_size, seq_len_a, seq_len_b, dims = 10, 512, 1023, 15"
   ]
  },
  {
   "cell_type": "code",
   "execution_count": 65,
   "id": "fe96675f-7d52-4203-8b69-8a28aacaf439",
   "metadata": {},
   "outputs": [],
   "source": [
    "a_cpu = torch.rand((batch_size, seq_len_a, dims))\n",
    "b_cpu = torch.rand((batch_size, seq_len_b, dims))"
   ]
  },
  {
   "cell_type": "code",
   "execution_count": 66,
   "id": "c4bddcf4-15a8-439b-ad15-2c9819de8fec",
   "metadata": {},
   "outputs": [],
   "source": [
    "A = a_cpu\n",
    "B = b_cpu"
   ]
  },
  {
   "cell_type": "code",
   "execution_count": 81,
   "id": "edb91426-9977-4a0d-a217-4e13cbdeeb3b",
   "metadata": {},
   "outputs": [
    {
     "data": {
      "text/plain": [
       "torch.Size([10, 512, 15])"
      ]
     },
     "execution_count": 81,
     "metadata": {},
     "output_type": "execute_result"
    }
   ],
   "source": [
    "A.shape"
   ]
  },
  {
   "cell_type": "code",
   "execution_count": 92,
   "id": "3004bed0-560f-46ba-b00a-af47b9d3413a",
   "metadata": {},
   "outputs": [],
   "source": [
    "x_norm = (A**2).sum(-1).unsqueeze(-1)"
   ]
  },
  {
   "cell_type": "code",
   "execution_count": 93,
   "id": "67a0197c-ccdf-4190-8465-22eed6417c0c",
   "metadata": {},
   "outputs": [
    {
     "data": {
      "text/plain": [
       "torch.Size([10, 512, 1])"
      ]
     },
     "execution_count": 93,
     "metadata": {},
     "output_type": "execute_result"
    }
   ],
   "source": [
    "x_norm.shape"
   ]
  },
  {
   "cell_type": "code",
   "execution_count": 94,
   "id": "bda52acd-3626-4492-9b7e-21b71559a733",
   "metadata": {},
   "outputs": [
    {
     "data": {
      "text/plain": [
       "torch.Size([10, 1023, 15])"
      ]
     },
     "execution_count": 94,
     "metadata": {},
     "output_type": "execute_result"
    }
   ],
   "source": [
    "B.shape"
   ]
  },
  {
   "cell_type": "code",
   "execution_count": 95,
   "id": "0d467abb-9529-43d1-b34d-8362bedba0a7",
   "metadata": {},
   "outputs": [],
   "source": [
    "y_norm = (B**2).sum(-1).unsqueeze(-2)"
   ]
  },
  {
   "cell_type": "code",
   "execution_count": 96,
   "id": "ee047455-3ffb-47d2-99ba-3df8af4044bb",
   "metadata": {},
   "outputs": [
    {
     "data": {
      "text/plain": [
       "torch.Size([10, 1, 1023])"
      ]
     },
     "execution_count": 96,
     "metadata": {},
     "output_type": "execute_result"
    }
   ],
   "source": [
    "y_norm.shape"
   ]
  },
  {
   "cell_type": "code",
   "execution_count": 97,
   "id": "25ff8201-8ee1-448e-9507-4464f2e78350",
   "metadata": {},
   "outputs": [
    {
     "data": {
      "text/plain": [
       "torch.Size([10, 512, 1023])"
      ]
     },
     "execution_count": 97,
     "metadata": {},
     "output_type": "execute_result"
    }
   ],
   "source": [
    "(x_norm + y_norm).shape"
   ]
  },
  {
   "cell_type": "code",
   "execution_count": 102,
   "id": "5eacaafc-aa2e-4f4b-b75c-27dfa505d11c",
   "metadata": {},
   "outputs": [
    {
     "data": {
      "text/plain": [
       "torch.Size([10, 512, 1023])"
      ]
     },
     "execution_count": 102,
     "metadata": {},
     "output_type": "execute_result"
    }
   ],
   "source": [
    "torch.bmm(A, B.mT).shape"
   ]
  },
  {
   "cell_type": "code",
   "execution_count": null,
   "id": "28dd697f-e8af-418c-b526-695774c4e70d",
   "metadata": {},
   "outputs": [],
   "source": []
  },
  {
   "cell_type": "code",
   "execution_count": null,
   "id": "abc827dd-1dbc-4c3d-8ed0-c49c421d93f6",
   "metadata": {},
   "outputs": [],
   "source": []
  },
  {
   "cell_type": "code",
   "execution_count": null,
   "id": "30444d14-b34a-448e-90c0-89af3ac1cbab",
   "metadata": {},
   "outputs": [],
   "source": []
  },
  {
   "cell_type": "code",
   "execution_count": null,
   "id": "16f576c5-22ce-4a28-b5f0-a1d189604940",
   "metadata": {},
   "outputs": [],
   "source": []
  },
  {
   "cell_type": "code",
   "execution_count": 86,
   "id": "ed9f73fe-2a54-4a3a-95fa-60939cc8a52e",
   "metadata": {},
   "outputs": [],
   "source": [
    "x, y = torch.rand((seq_len_a, dims)), torch.rand((seq_len_b, dims))"
   ]
  },
  {
   "cell_type": "code",
   "execution_count": 88,
   "id": "391e5f96-4c13-4f0e-8446-e291e18b034a",
   "metadata": {},
   "outputs": [],
   "source": [
    "x_norm = (x**2).sum(1).view(-1, 1)\n",
    "y_norm = (y**2).sum(1).view(1, -1)"
   ]
  },
  {
   "cell_type": "code",
   "execution_count": 90,
   "id": "8047718f-0180-4364-b917-8658b22dcc82",
   "metadata": {},
   "outputs": [],
   "source": [
    "y_t = torch.transpose(y, 0, 1)\n",
    "dist = x_norm + y_norm - 2.0 * torch.mm(x, y_t)"
   ]
  },
  {
   "cell_type": "code",
   "execution_count": 91,
   "id": "ef41cd06-0a02-42b3-8bdd-8aef6fbf0a14",
   "metadata": {},
   "outputs": [
    {
     "data": {
      "text/plain": [
       "(torch.Size([512, 15]), torch.Size([15, 1023]))"
      ]
     },
     "execution_count": 91,
     "metadata": {},
     "output_type": "execute_result"
    }
   ],
   "source": [
    "x.shape, y_t.shape"
   ]
  },
  {
   "cell_type": "code",
   "execution_count": null,
   "id": "19d9154a-4cee-4c71-bfe8-eda9714a58f6",
   "metadata": {},
   "outputs": [],
   "source": []
  },
  {
   "cell_type": "code",
   "execution_count": null,
   "id": "829c15b9-03c3-460f-837f-1a2e87c3ce04",
   "metadata": {},
   "outputs": [],
   "source": []
  },
  {
   "cell_type": "code",
   "execution_count": null,
   "id": "8962a4f3-fbab-4e5f-9a60-43076a5f3a59",
   "metadata": {},
   "outputs": [],
   "source": []
  },
  {
   "cell_type": "code",
   "execution_count": null,
   "id": "a0e2152b-c3c7-4066-bff8-b4d12583243f",
   "metadata": {},
   "outputs": [],
   "source": []
  },
  {
   "cell_type": "code",
   "execution_count": null,
   "id": "ba674293-af8e-47bc-bc34-28af316f53c2",
   "metadata": {},
   "outputs": [],
   "source": []
  },
  {
   "cell_type": "code",
   "execution_count": null,
   "id": "fb6c7abc-2f35-4bbc-9d2d-a91837fbc29f",
   "metadata": {},
   "outputs": [],
   "source": []
  }
 ],
 "metadata": {
  "kernelspec": {
   "display_name": "Python 3 (ipykernel)",
   "language": "python",
   "name": "python3"
  },
  "language_info": {
   "codemirror_mode": {
    "name": "ipython",
    "version": 3
   },
   "file_extension": ".py",
   "mimetype": "text/x-python",
   "name": "python",
   "nbconvert_exporter": "python",
   "pygments_lexer": "ipython3",
   "version": "3.9.12"
  }
 },
 "nbformat": 4,
 "nbformat_minor": 5
}
