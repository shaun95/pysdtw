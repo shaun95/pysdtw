{
 "cells": [
  {
   "cell_type": "markdown",
   "id": "02830f6e-11b6-4c38-9c7b-8ec4afe74737",
   "metadata": {},
   "source": [
    "# numba"
   ]
  },
  {
   "cell_type": "code",
   "execution_count": 1,
   "id": "34ecd376-105a-4b11-8a99-bf69a787f471",
   "metadata": {},
   "outputs": [],
   "source": [
    "from numba import cuda"
   ]
  },
  {
   "cell_type": "code",
   "execution_count": 2,
   "id": "53b5f75e-d8ff-460d-8ffb-b92adb45e7b7",
   "metadata": {},
   "outputs": [
    {
     "data": {
      "text/plain": [
       "[<numba.cuda.cudadrv.devices._DeviceContextManager at 0x7f3adc119ac0>]"
      ]
     },
     "execution_count": 2,
     "metadata": {},
     "output_type": "execute_result"
    }
   ],
   "source": [
    "[i for i in cuda.devices.gpus]"
   ]
  },
  {
   "cell_type": "code",
   "execution_count": 3,
   "id": "3a395da9-f339-4840-8aa6-e4bf2cec85e7",
   "metadata": {},
   "outputs": [],
   "source": [
    "import numba"
   ]
  },
  {
   "cell_type": "code",
   "execution_count": 4,
   "id": "66a1366d-1d80-4306-b72b-f972b4c0e1d3",
   "metadata": {},
   "outputs": [
    {
     "name": "stdout",
     "output_type": "stream",
     "text": [
      "Found 1 CUDA devices\n",
      "id 0    b'NVIDIA GeForce RTX 2060 SUPER'                              [SUPPORTED]\n",
      "                      Compute Capability: 7.5\n",
      "                           PCI Device ID: 0\n",
      "                              PCI Bus ID: 38\n",
      "                                    UUID: GPU-f5dcddd0-bc57-5ebb-7578-229367d62be8\n",
      "                                Watchdog: Enabled\n",
      "             FP32/FP64 Performance Ratio: 32\n",
      "Summary:\n",
      "\t1/1 devices are supported\n"
     ]
    },
    {
     "data": {
      "text/plain": [
       "True"
      ]
     },
     "execution_count": 4,
     "metadata": {},
     "output_type": "execute_result"
    }
   ],
   "source": [
    "numba.cuda.detect()"
   ]
  },
  {
   "cell_type": "code",
   "execution_count": 5,
   "id": "84d5ce5b-cc99-46af-a3ed-dda9f2f5d30b",
   "metadata": {},
   "outputs": [],
   "source": [
    "device = cuda.get_current_device()"
   ]
  },
  {
   "cell_type": "code",
   "execution_count": 6,
   "id": "ad68be7c-50c1-4884-aaf8-f32765cb0b50",
   "metadata": {},
   "outputs": [],
   "source": [
    "cd = device.get_primary_context()"
   ]
  },
  {
   "cell_type": "code",
   "execution_count": 7,
   "id": "3c99977d-abf0-4e48-b8d9-e1d4930af1fa",
   "metadata": {},
   "outputs": [
    {
     "data": {
      "text/plain": [
       "\u001b[0;31mSignature:\u001b[0m\n",
       "\u001b[0mcd\u001b[0m\u001b[0;34m.\u001b[0m\u001b[0mget_max_potential_block_size\u001b[0m\u001b[0;34m(\u001b[0m\u001b[0;34m\u001b[0m\n",
       "\u001b[0;34m\u001b[0m    \u001b[0mfunc\u001b[0m\u001b[0;34m,\u001b[0m\u001b[0;34m\u001b[0m\n",
       "\u001b[0;34m\u001b[0m    \u001b[0mb2d_func\u001b[0m\u001b[0;34m,\u001b[0m\u001b[0;34m\u001b[0m\n",
       "\u001b[0;34m\u001b[0m    \u001b[0mmemsize\u001b[0m\u001b[0;34m,\u001b[0m\u001b[0;34m\u001b[0m\n",
       "\u001b[0;34m\u001b[0m    \u001b[0mblocksizelimit\u001b[0m\u001b[0;34m,\u001b[0m\u001b[0;34m\u001b[0m\n",
       "\u001b[0;34m\u001b[0m    \u001b[0mflags\u001b[0m\u001b[0;34m=\u001b[0m\u001b[0;32mNone\u001b[0m\u001b[0;34m,\u001b[0m\u001b[0;34m\u001b[0m\n",
       "\u001b[0;34m\u001b[0m\u001b[0;34m)\u001b[0m\u001b[0;34m\u001b[0m\u001b[0;34m\u001b[0m\u001b[0m\n",
       "\u001b[0;31mDocstring:\u001b[0m\n",
       "Suggest a launch configuration with reasonable occupancy.\n",
       ":param func: kernel for which occupancy is calculated\n",
       ":param b2d_func: function that calculates how much per-block dynamic\n",
       "                 shared memory 'func' uses based on the block size.\n",
       "                 Can also be the address of a C function.\n",
       "                 Use `0` to pass `NULL` to the underlying CUDA API.\n",
       ":param memsize: per-block dynamic shared memory usage intended, in bytes\n",
       ":param blocksizelimit: maximum block size the kernel is designed to\n",
       "                       handle\n",
       "\u001b[0;31mFile:\u001b[0m      ~/anaconda3/envs/ddtw/lib/python3.9/site-packages/numba/cuda/cudadrv/driver.py\n",
       "\u001b[0;31mType:\u001b[0m      method\n"
      ]
     },
     "metadata": {},
     "output_type": "display_data"
    }
   ],
   "source": [
    "cd.get_max_potential_block_size?"
   ]
  },
  {
   "cell_type": "code",
   "execution_count": 8,
   "id": "c8e5e52d-f11a-49d8-9975-b5d172d1a4fd",
   "metadata": {},
   "outputs": [
    {
     "data": {
      "text/plain": [
       "MemoryInfo(free=7363690496, total=8346664960)"
      ]
     },
     "execution_count": 8,
     "metadata": {},
     "output_type": "execute_result"
    }
   ],
   "source": [
    "cd.get_memory_info()"
   ]
  },
  {
   "cell_type": "code",
   "execution_count": 27,
   "id": "6dd97ca6-6442-487d-8e19-3e0337bae498",
   "metadata": {},
   "outputs": [
    {
     "data": {
      "text/plain": [
       "{}"
      ]
     },
     "execution_count": 27,
     "metadata": {},
     "output_type": "execute_result"
    }
   ],
   "source": [
    "device"
   ]
  },
  {
   "cell_type": "code",
   "execution_count": null,
   "id": "cac4c43e-2891-4111-9a92-b88fb2bd04da",
   "metadata": {},
   "outputs": [],
   "source": []
  },
  {
   "cell_type": "markdown",
   "id": "da7069ea-b3b8-47c7-90f3-014911f56cb6",
   "metadata": {},
   "source": [
    "# module"
   ]
  },
  {
   "cell_type": "code",
   "execution_count": 9,
   "id": "cc77951a-274e-4c91-a31a-460eb777dec5",
   "metadata": {},
   "outputs": [],
   "source": [
    "import torch"
   ]
  },
  {
   "cell_type": "code",
   "execution_count": 10,
   "id": "e09738a1-0079-41cf-8741-039fce8390b7",
   "metadata": {},
   "outputs": [],
   "source": [
    "from pysdtw import SoftDTW"
   ]
  },
  {
   "cell_type": "code",
   "execution_count": 11,
   "id": "3c11e0bf-929c-4cbc-8db9-97ce2caef809",
   "metadata": {},
   "outputs": [],
   "source": [
    "sdtw = SoftDTW(True)"
   ]
  },
  {
   "cell_type": "code",
   "execution_count": 12,
   "id": "e70f3a5e-4319-4274-9503-080d7e4b573a",
   "metadata": {},
   "outputs": [
    {
     "data": {
      "text/plain": [
       "<function pysdtw.SoftDTW._euclidean_dist_func(x, y)>"
      ]
     },
     "execution_count": 12,
     "metadata": {},
     "output_type": "execute_result"
    }
   ],
   "source": [
    "sdtw.dist_func"
   ]
  },
  {
   "cell_type": "code",
   "execution_count": 13,
   "id": "fe7edefc-510b-49be-af9b-819e7fecaa96",
   "metadata": {},
   "outputs": [],
   "source": [
    "batch_size, seq_len_a, seq_len_b, dims = 10, 512, 1023, 15"
   ]
  },
  {
   "cell_type": "code",
   "execution_count": 14,
   "id": "7c01bf20-c106-4b12-9a35-59a51d59e882",
   "metadata": {},
   "outputs": [],
   "source": [
    "a_cpu = torch.rand((batch_size, seq_len_a, dims), requires_grad=True)\n",
    "b_cpu = torch.rand((batch_size, seq_len_b, dims))\n",
    "a_gpu = a_cpu.cuda()\n",
    "b_gpu = b_cpu.cuda()"
   ]
  },
  {
   "cell_type": "code",
   "execution_count": 15,
   "id": "3c5426cc-1b7c-46af-a079-a7149f977e33",
   "metadata": {},
   "outputs": [
    {
     "data": {
      "text/plain": [
       "MemoryInfo(free=6549995520, total=8346664960)"
      ]
     },
     "execution_count": 15,
     "metadata": {},
     "output_type": "execute_result"
    }
   ],
   "source": [
    "cd.get_memory_info()"
   ]
  },
  {
   "cell_type": "code",
   "execution_count": 16,
   "id": "70de4d31-d586-434a-b16a-e324c17f3890",
   "metadata": {},
   "outputs": [
    {
     "data": {
      "text/plain": [
       "6.06756591796875"
      ]
     },
     "execution_count": 16,
     "metadata": {},
     "output_type": "execute_result"
    }
   ],
   "source": [
    "6514999296 / 1024**3"
   ]
  },
  {
   "cell_type": "code",
   "execution_count": 17,
   "id": "d2141284-8e8a-4938-9838-31ac324683f7",
   "metadata": {},
   "outputs": [
    {
     "data": {
      "text/plain": [
       "torch.float32"
      ]
     },
     "execution_count": 17,
     "metadata": {},
     "output_type": "execute_result"
    }
   ],
   "source": [
    "a_cpu.dtype"
   ]
  },
  {
   "cell_type": "code",
   "execution_count": 18,
   "id": "3b0f8ed5-6f74-43df-9731-016e82e73cbf",
   "metadata": {},
   "outputs": [
    {
     "data": {
      "text/plain": [
       "torch.float32"
      ]
     },
     "execution_count": 18,
     "metadata": {},
     "output_type": "execute_result"
    }
   ],
   "source": [
    "a_gpu.dtype"
   ]
  },
  {
   "cell_type": "code",
   "execution_count": 25,
   "id": "0842c892-1b88-4085-9331-e6dea24f9dd3",
   "metadata": {},
   "outputs": [
    {
     "name": "stdout",
     "output_type": "stream",
     "text": [
      "25.5 ms ± 2.65 ms per loop (mean ± std. dev. of 7 runs, 10 loops each)\n"
     ]
    }
   ],
   "source": [
    "%%timeit\n",
    "sdtw(a_gpu, b_gpu)"
   ]
  },
  {
   "cell_type": "code",
   "execution_count": 21,
   "id": "43e198f6-39e3-4b68-a46b-04765a6c6414",
   "metadata": {},
   "outputs": [],
   "source": [
    "sdtw_cpu = SoftDTW(False)"
   ]
  },
  {
   "cell_type": "code",
   "execution_count": 24,
   "id": "40e67eda-c446-47c0-8a4b-d6f70d507bbe",
   "metadata": {},
   "outputs": [
    {
     "name": "stdout",
     "output_type": "stream",
     "text": [
      "346 ms ± 4.7 ms per loop (mean ± std. dev. of 7 runs, 1 loop each)\n"
     ]
    }
   ],
   "source": [
    "%%timeit\n",
    "sdtw_cpu(a_cpu, b_cpu)"
   ]
  },
  {
   "cell_type": "markdown",
   "id": "2eb7431b-2b03-4213-8d6e-d869f6741105",
   "metadata": {},
   "source": [
    "# pairwise"
   ]
  },
  {
   "cell_type": "code",
   "execution_count": 28,
   "id": "1fad7e55-56db-4319-b1a3-4cce26da8367",
   "metadata": {},
   "outputs": [],
   "source": [
    "def _euclidean_dist_func(x, y):\n",
    "    \"\"\"\n",
    "    Calculates the Euclidean distance between each element in x and y per timestep\n",
    "    \"\"\"\n",
    "    n = x.size(1)\n",
    "    m = y.size(1)\n",
    "    d = x.size(2)\n",
    "    x = x.unsqueeze(2).expand(-1, n, m, d)\n",
    "    y = y.unsqueeze(1).expand(-1, n, m, d)\n",
    "    return torch.pow(x - y, 2).sum(3)"
   ]
  },
  {
   "cell_type": "code",
   "execution_count": 45,
   "id": "a1b7db84-9610-4b50-bdde-ea7abd010a25",
   "metadata": {},
   "outputs": [],
   "source": [
    "def pairwise_l2_squared(x, y, theta):\n",
    "    '''\n",
    "    https://discuss.pytorch.org/t/efficient-distance-matrix-computation/9065/2\n",
    "\n",
    "    Input: x is an Nxd matrix\n",
    "           y is an Mxd matrix\n",
    "    Output: dist is a NxM matrix where dist[i,j] is the square norm between x[i,:] and y[j,:]\n",
    "            if y is not given then use 'y=x'.\n",
    "    i.e. dist[i,j] = ||x[i,:]-y[j,:]||^2\n",
    "    '''\n",
    "    x_norm = (theta * x**2).sum(1).view(-1, 1)\n",
    "    y_t = torch.transpose(y, 0, 1)\n",
    "    y_norm = (theta * y**2).sum(1).view(1, -1)\n",
    "    dist = x_norm + y_norm - 2.0 * torch.mm(theta*x, y_t)\n",
    "    # Ensure diagonal is zero if x=y\n",
    "    # if y is None:\n",
    "    #     dist = dist - torch.diag(dist.diag)\n",
    "    return torch.clamp(dist, 0.0, np.inf)"
   ]
  },
  {
   "cell_type": "code",
   "execution_count": 46,
   "id": "5bd2067a-5e29-4ed2-85d0-bcad32f33c9b",
   "metadata": {},
   "outputs": [
    {
     "data": {
      "text/plain": [
       "torch.Size([10, 512, 1023])"
      ]
     },
     "execution_count": 46,
     "metadata": {},
     "output_type": "execute_result"
    }
   ],
   "source": [
    "_euclidean_dist_func(a_cpu, b_cpu).shape"
   ]
  },
  {
   "cell_type": "code",
   "execution_count": 47,
   "id": "475409b4-1000-4788-9785-f5383f63d6f2",
   "metadata": {},
   "outputs": [],
   "source": [
    "theta = torch.ones(dims)"
   ]
  },
  {
   "cell_type": "code",
   "execution_count": 50,
   "id": "7a0fa13c-69ad-42ac-9ce7-efccc1414402",
   "metadata": {},
   "outputs": [],
   "source": [
    "# pairwise_l2_squared(a_cpu, b_cpu, torch.ones(dims)).shape"
   ]
  },
  {
   "cell_type": "code",
   "execution_count": null,
   "id": "c4bddcf4-15a8-439b-ad15-2c9819de8fec",
   "metadata": {},
   "outputs": [],
   "source": []
  },
  {
   "cell_type": "code",
   "execution_count": null,
   "id": "3004bed0-560f-46ba-b00a-af47b9d3413a",
   "metadata": {},
   "outputs": [],
   "source": []
  },
  {
   "cell_type": "code",
   "execution_count": null,
   "id": "67a0197c-ccdf-4190-8465-22eed6417c0c",
   "metadata": {},
   "outputs": [],
   "source": []
  },
  {
   "cell_type": "code",
   "execution_count": null,
   "id": "0d467abb-9529-43d1-b34d-8362bedba0a7",
   "metadata": {},
   "outputs": [],
   "source": []
  },
  {
   "cell_type": "code",
   "execution_count": 52,
   "id": "0cbdf2cd-8fed-4f78-ab0f-7ffa5f5d2d3c",
   "metadata": {},
   "outputs": [],
   "source": [
    "import numpy as np"
   ]
  },
  {
   "cell_type": "code",
   "execution_count": 76,
   "id": "430c9aec-c0ee-458f-933c-a7558077342e",
   "metadata": {
    "tags": []
   },
   "outputs": [],
   "source": [
    "USE_64 = True\n",
    "\n",
    "if USE_64:\n",
    "    bits = 64\n",
    "    np_type = np.float64\n",
    "else:\n",
    "    bits = 32\n",
    "    np_type = np.float32\n",
    "\n",
    "@cuda.jit(\"void(float{}[:, :], float{}[:], float{}[:, :])\".format(bits, bits, bits))\n",
    "def distance_matrix(mat, theta, out):\n",
    "    m = mat.shape[0]\n",
    "    n = mat.shape[1]\n",
    "    i, j = cuda.grid(2)\n",
    "    d = 0\n",
    "    if i < m and j < m:\n",
    "        for k in range(n):\n",
    "            tmp = theta[k] * (mat[i, k] - mat[j, k])\n",
    "            d += tmp * tmp\n",
    "        out[i, j] = d"
   ]
  },
  {
   "cell_type": "code",
   "execution_count": 77,
   "id": "9b760f2f-72f4-4293-80ec-56c8d1087405",
   "metadata": {},
   "outputs": [],
   "source": [
    "N = 15"
   ]
  },
  {
   "cell_type": "code",
   "execution_count": 80,
   "id": "a12c5ba5-f8eb-4789-abb0-6d154fe1eda7",
   "metadata": {},
   "outputs": [],
   "source": [
    "theta = torch.ones(N, requires_grad=True)"
   ]
  },
  {
   "cell_type": "code",
   "execution_count": 81,
   "id": "efef5473-c5ea-4b34-bd24-765015a2b8c3",
   "metadata": {},
   "outputs": [
    {
     "data": {
      "text/plain": [
       "tensor([1., 1., 1., 1., 1., 1., 1., 1., 1., 1., 1., 1., 1., 1., 1.],\n",
       "       requires_grad=True)"
      ]
     },
     "execution_count": 81,
     "metadata": {},
     "output_type": "execute_result"
    }
   ],
   "source": [
    "theta"
   ]
  },
  {
   "cell_type": "code",
   "execution_count": 87,
   "id": "9cb336d5-d0ed-4c66-a85a-d3d98d87b51c",
   "metadata": {},
   "outputs": [],
   "source": [
    "def gpu_dist_matrix(mat, theta):\n",
    "    rows = mat.shape[0]\n",
    "\n",
    "    block_dim = (16, 16)\n",
    "    grid_dim = (int(rows/block_dim[0] + 1), int(rows/block_dim[1] + 1))\n",
    "\n",
    "    stream = cuda.stream()\n",
    "    mat2 = cuda.to_device(np.asarray(mat, dtype=np_type), stream=stream)\n",
    "    theta2 = cuda.to_device(np.asarray(theta, dtype=np_type), stream=stream)\n",
    "    \n",
    "    out2 = cuda.device_array((rows, rows))\n",
    "    distance_matrix[grid_dim, block_dim](mat2, out2)\n",
    "    out = out2.copy_to_host(stream=stream)\n",
    "\n",
    "    return out"
   ]
  },
  {
   "cell_type": "code",
   "execution_count": 88,
   "id": "6a7ce880-1cf6-4ad8-9f21-9cf23322b3b0",
   "metadata": {},
   "outputs": [
    {
     "data": {
      "text/plain": [
       "<module 'numba.cuda' from '/home/antoine/anaconda3/envs/ddtw/lib/python3.9/site-packages/numba/cuda/__init__.py'>"
      ]
     },
     "execution_count": 88,
     "metadata": {},
     "output_type": "execute_result"
    }
   ],
   "source": [
    "cuda"
   ]
  },
  {
   "cell_type": "code",
   "execution_count": 89,
   "id": "c8188d61-faaf-478f-acdb-13d9f57a39bb",
   "metadata": {},
   "outputs": [],
   "source": [
    "A = np.random.random((N, N))"
   ]
  },
  {
   "cell_type": "code",
   "execution_count": 90,
   "id": "db99f603-949f-4ae6-9836-502478a08e96",
   "metadata": {},
   "outputs": [
    {
     "ename": "RuntimeError",
     "evalue": "Can't call numpy() on Tensor that requires grad. Use tensor.detach().numpy() instead.",
     "output_type": "error",
     "traceback": [
      "\u001b[0;31m---------------------------------------------------------------------------\u001b[0m",
      "\u001b[0;31mRuntimeError\u001b[0m                              Traceback (most recent call last)",
      "Input \u001b[0;32mIn [90]\u001b[0m, in \u001b[0;36m<cell line: 1>\u001b[0;34m()\u001b[0m\n\u001b[0;32m----> 1\u001b[0m B \u001b[38;5;241m=\u001b[39m \u001b[43mgpu_dist_matrix\u001b[49m\u001b[43m(\u001b[49m\u001b[43mA\u001b[49m\u001b[43m,\u001b[49m\u001b[43m \u001b[49m\u001b[43mtheta\u001b[49m\u001b[43m)\u001b[49m\n",
      "Input \u001b[0;32mIn [87]\u001b[0m, in \u001b[0;36mgpu_dist_matrix\u001b[0;34m(mat, theta)\u001b[0m\n\u001b[1;32m      7\u001b[0m stream \u001b[38;5;241m=\u001b[39m cuda\u001b[38;5;241m.\u001b[39mstream()\n\u001b[1;32m      8\u001b[0m mat2 \u001b[38;5;241m=\u001b[39m cuda\u001b[38;5;241m.\u001b[39mto_device(np\u001b[38;5;241m.\u001b[39masarray(mat, dtype\u001b[38;5;241m=\u001b[39mnp_type), stream\u001b[38;5;241m=\u001b[39mstream)\n\u001b[0;32m----> 9\u001b[0m theta2 \u001b[38;5;241m=\u001b[39m cuda\u001b[38;5;241m.\u001b[39mto_device(\u001b[43mnp\u001b[49m\u001b[38;5;241;43m.\u001b[39;49m\u001b[43masarray\u001b[49m\u001b[43m(\u001b[49m\u001b[43mtheta\u001b[49m\u001b[43m,\u001b[49m\u001b[43m \u001b[49m\u001b[43mdtype\u001b[49m\u001b[38;5;241;43m=\u001b[39;49m\u001b[43mnp_type\u001b[49m\u001b[43m)\u001b[49m, stream\u001b[38;5;241m=\u001b[39mstream)\n\u001b[1;32m     11\u001b[0m out2 \u001b[38;5;241m=\u001b[39m cuda\u001b[38;5;241m.\u001b[39mdevice_array((rows, rows))\n\u001b[1;32m     12\u001b[0m distance_matrix[grid_dim, block_dim](mat2, out2)\n",
      "File \u001b[0;32m~/anaconda3/envs/ddtw/lib/python3.9/site-packages/torch/_tensor.py:734\u001b[0m, in \u001b[0;36mTensor.__array__\u001b[0;34m(self, dtype)\u001b[0m\n\u001b[1;32m    732\u001b[0m     \u001b[38;5;28;01mreturn\u001b[39;00m \u001b[38;5;28mself\u001b[39m\u001b[38;5;241m.\u001b[39mnumpy()\n\u001b[1;32m    733\u001b[0m \u001b[38;5;28;01melse\u001b[39;00m:\n\u001b[0;32m--> 734\u001b[0m     \u001b[38;5;28;01mreturn\u001b[39;00m \u001b[38;5;28;43mself\u001b[39;49m\u001b[38;5;241;43m.\u001b[39;49m\u001b[43mnumpy\u001b[49m\u001b[43m(\u001b[49m\u001b[43m)\u001b[49m\u001b[38;5;241m.\u001b[39mastype(dtype, copy\u001b[38;5;241m=\u001b[39m\u001b[38;5;28;01mFalse\u001b[39;00m)\n",
      "\u001b[0;31mRuntimeError\u001b[0m: Can't call numpy() on Tensor that requires grad. Use tensor.detach().numpy() instead."
     ]
    }
   ],
   "source": [
    "B = gpu_dist_matrix(A, theta)"
   ]
  },
  {
   "cell_type": "code",
   "execution_count": null,
   "id": "8233e941-3116-4afd-ab39-c259d26621ab",
   "metadata": {},
   "outputs": [],
   "source": []
  }
 ],
 "metadata": {
  "kernelspec": {
   "display_name": "Python 3 (ipykernel)",
   "language": "python",
   "name": "python3"
  },
  "language_info": {
   "codemirror_mode": {
    "name": "ipython",
    "version": 3
   },
   "file_extension": ".py",
   "mimetype": "text/x-python",
   "name": "python",
   "nbconvert_exporter": "python",
   "pygments_lexer": "ipython3",
   "version": "3.9.12"
  }
 },
 "nbformat": 4,
 "nbformat_minor": 5
}
